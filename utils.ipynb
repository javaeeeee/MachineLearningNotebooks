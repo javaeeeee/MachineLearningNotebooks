{
  "nbformat": 4,
  "nbformat_minor": 0,
  "metadata": {
    "colab": {
      "name": "utils.ipynb",
      "provenance": [],
      "collapsed_sections": []
    },
    "kernelspec": {
      "name": "python3",
      "display_name": "Python 3"
    },
    "language_info": {
      "name": "python"
    }
  },
  "cells": [
    {
      "cell_type": "code",
      "metadata": {
        "id": "HBuFvn9rPRf4"
      },
      "source": [
        "import matplotlib.pyplot as plt\n",
        "import seaborn as sns\n",
        "\n",
        "%matplotlib inline"
      ],
      "execution_count": null,
      "outputs": []
    },
    {
      "cell_type": "code",
      "metadata": {
        "id": "7Y_Wlm7qO5Sq"
      },
      "source": [
        "def plot_distributions(data, n_rows, n_cols, num_graphs, width, height):\n",
        "  fig, axs = plt.subplots(4, 4, figsize=(width, height))\n",
        "\n",
        "  for i in range(n_rows):\n",
        "    for j in range(n_cols):\n",
        "      column_index = i*4 + j\n",
        "      if column_index > num_graphs:\n",
        "        break\n",
        "      sns.histplot(data=data, x=data.columns[column_index], ax=axs[i, j])\n",
        "\n",
        "  plt.show()"
      ],
      "execution_count": null,
      "outputs": []
    },
    {
      "cell_type": "code",
      "metadata": {
        "id": "ytZF7S76PNti"
      },
      "source": [
        "def plot_feature_importance(feature_importance, width, height):\n",
        "  sorted_idx = np.argsort(feature_importance)\n",
        "  plt.figure(figsize=(width, height))\n",
        "  features = np.array(X_test.columns)[sorted_idx]\n",
        "  sns.barplot(x=feature_importance[sorted_idx], y=features, order=features[::-1])\n",
        "  plt.title('Feature Importance')\n",
        "  plt.show()"
      ],
      "execution_count": null,
      "outputs": []
    }
  ]
}