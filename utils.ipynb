{
  "nbformat": 4,
  "nbformat_minor": 0,
  "metadata": {
    "colab": {
      "name": "utils.ipynb",
      "provenance": [],
      "collapsed_sections": []
    },
    "kernelspec": {
      "name": "python3",
      "display_name": "Python 3"
    },
    "language_info": {
      "name": "python"
    }
  },
  "cells": [
    {
      "cell_type": "code",
      "metadata": {
        "id": "HBuFvn9rPRf4"
      },
      "source": [
        "import matplotlib.pyplot as plt\n",
        "import seaborn as sns\n",
        "\n",
        "%matplotlib inline"
      ],
      "execution_count": null,
      "outputs": []
    },
    {
      "cell_type": "code",
      "metadata": {
        "id": "7Y_Wlm7qO5Sq"
      },
      "source": [
        "def plot_distributions(data, n_rows, n_cols, num_graphs, width, height):\n",
        "  fig, axs = plt.subplots(4, 4, figsize=(width, height))\n",
        "\n",
        "  for i in range(n_rows):\n",
        "    for j in range(n_cols):\n",
        "      column_index = i*4 + j\n",
        "      if column_index > num_graphs:\n",
        "        break\n",
        "      sns.histplot(data=data, x=data.columns[column_index], ax=axs[i, j])\n",
        "\n",
        "  plt.show()"
      ],
      "execution_count": null,
      "outputs": []
    },
    {
      "cell_type": "code",
      "metadata": {
        "id": "ytZF7S76PNti"
      },
      "source": [
        "def plot_feature_importance(feature_importance, width, height):\n",
        "  sorted_idx = np.argsort(feature_importance)\n",
        "  plt.figure(figsize=(width, height))\n",
        "  features = np.array(X_test.columns)[sorted_idx]\n",
        "  sns.barplot(x=feature_importance[sorted_idx], y=features, order=features[::-1])\n",
        "  plt.title('Feature Importance')\n",
        "  plt.show()"
      ],
      "execution_count": null,
      "outputs": []
    },
    {
      "cell_type": "code",
      "execution_count": null,
      "metadata": {},
      "outputs": [],
      "source": [
        "def plot_correlation_between_features(correlation, width, height): \n",
        "  cmap = sns.color_palette(\"vlag\", as_cmap=True)\n",
        "  plt.figure(figsize=(width, height))\n",
        "\n",
        "  heatmap = (sns.heatmap(\n",
        "      correlation, \n",
        "      mask=np.triu(np.ones_like(correlation, dtype=np.bool)), \n",
        "      vmin=-1, \n",
        "      vmax=1, \n",
        "      annot=True, \n",
        "      cmap=cmap))\n",
        "  (heatmap\n",
        "  .set_title('Correlation between features'))\n",
        "  plt.show()"
      ]
    },
    {
      "cell_type": "code",
      "execution_count": null,
      "metadata": {},
      "outputs": [],
      "source": [
        "def plot_correlation_with_target(correlation, width, height, target_column_name=\"target\"):\n",
        "  plt.figure(figsize=(width, height))\n",
        "  heatmap = (sns.heatmap(\n",
        "      correlation[[target_column_name]][correlation[target_column_name] != 1].sort_values(by=target_column_name, ascending=False), \n",
        "      vmin=-1, \n",
        "      vmax=1, \n",
        "      annot=True, \n",
        "      cmap=cmap))\n",
        "  heatmap.set_title('Features Correlating with the target')\n",
        "  plt.show()"
      ]
    }
  ]
}